{
 "cells": [
  {
   "cell_type": "code",
   "execution_count": 1,
   "metadata": {},
   "outputs": [],
   "source": [
    "import cv2\n",
    "import os\n",
    "import re\n",
    "\n",
    "Cap = cv2.VideoCapture('Night Time Traffic Camera video.mp4')\n",
    "\n",
    "BS_KNN = cv2.createBackgroundSubtractorKNN()\n",
    "BS_MOG2 = cv2.createBackgroundSubtractorMOG2()\n",
    "\n",
    "vehicles = 0\n",
    "cont_valid = []\n",
    "while Cap.isOpened():\n",
    "    ret, frame = Cap.read() \n",
    "\n",
    "    # extract the foreground mask\n",
    "    fgMask = BS_KNN.apply(frame)\n",
    "    \n",
    "    cv2.line(frame, (0,480), (1300,480), (0,0,255), 2) # Line\n",
    "    cv2.line(frame, (0,470), (1300,470), (0,255,0), 1) # Offset ABOVE\n",
    "    cv2.line(frame, (0,490), (1300,490), (0,255,0), 1) # Offset BELOW\n",
    "    \n",
    "    contours, _ = cv2.findContours(fgMask, cv2.RETR_LIST, cv2.CHAIN_APPROX_SIMPLE)\n",
    "    \n",
    "    for c in contours:\n",
    "        x, y, w, h = cv2.boundingRect(c)\n",
    "        \n",
    "        cont = (w > 50) and (h > 50)\n",
    "        if not cont:\n",
    "            continue\n",
    "        \n",
    "        if x > 20 and x < 1300 and y > 100:\n",
    "            \n",
    "            cv2.rectangle(frame, (x,y), (x+w, y+h), (0,255,0), 2)\n",
    "            xMid = int((x + (x+w))/2)\n",
    "            yMid = int((y + (y+h))/2)\n",
    "            cv2.circle(frame, (xMid,yMid),5,(0,0,255),5)\n",
    "\n",
    "            cont_valid.append((xMid,yMid))\n",
    "\n",
    "            for (X, Y) in cont_valid:\n",
    "                if Y > 475 and Y < 485 : \n",
    "                    vehicles += 1\n",
    "                    cont_valid.remove((X,Y))\n",
    "                    \n",
    "                  \n",
    "    cv2.imshow('Foreground Mask', fgMask)\n",
    "    cv2.putText(frame, 'Total vehicles : {}'.format(vehicles), (480, 30), cv2.FONT_HERSHEY_PLAIN, 2, (0,255,255), 2)\n",
    "    cv2.imshow('Original Video', frame)\n",
    "    \n",
    "    if cv2.waitKey(1) & 0xFF == ord('q'):\n",
    "        break\n",
    "\n",
    "# release video capture\n",
    "cv2.destroyAllWindows()\n",
    "Cap.release()"
   ]
  },
  {
   "cell_type": "code",
   "execution_count": null,
   "metadata": {},
   "outputs": [],
   "source": []
  },
  {
   "cell_type": "code",
   "execution_count": null,
   "metadata": {},
   "outputs": [],
   "source": []
  }
 ],
 "metadata": {
  "kernelspec": {
   "display_name": "Python 3",
   "language": "python",
   "name": "python3"
  },
  "language_info": {
   "codemirror_mode": {
    "name": "ipython",
    "version": 3
   },
   "file_extension": ".py",
   "mimetype": "text/x-python",
   "name": "python",
   "nbconvert_exporter": "python",
   "pygments_lexer": "ipython3",
   "version": "3.8.5"
  }
 },
 "nbformat": 4,
 "nbformat_minor": 4
}
